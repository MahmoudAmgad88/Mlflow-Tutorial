{
 "cells": [
  {
   "cell_type": "code",
   "execution_count": 1,
   "id": "83a15cd1-b496-464c-aab4-7581b4c9f298",
   "metadata": {},
   "outputs": [],
   "source": [
    "import os\n",
    "import argparse\n",
    "import pandas as pd\n",
    "import numpy as np\n",
    "from sklearn.metrics import mean_squared_error, mean_absolute_error, r2_score\n",
    "from sklearn.model_selection import train_test_split\n",
    "from sklearn.linear_model import ElasticNet\n",
    "from urllib.parse import urlparse\n",
    "import mlflow\n",
    "import mlflow.sklearn"
   ]
  },
  {
   "cell_type": "code",
   "execution_count": 2,
   "id": "e0a5785b-a216-43dd-88e5-d89aa5653620",
   "metadata": {},
   "outputs": [
    {
     "data": {
      "text/plain": [
       "<Experiment: artifact_location='./mlruns/1', experiment_id='1', lifecycle_stage='active', name='Wine-Quality', tags={}>"
      ]
     },
     "execution_count": 2,
     "metadata": {},
     "output_type": "execute_result"
    }
   ],
   "source": [
    "#mlflow server --backend-store-uri sqlite:///mlflow.db\n",
    "mlflow.set_tracking_uri(\"sqlite:///mlflow.db\")\n",
    "mlflow.set_experiment(\"Wine-Quality\")"
   ]
  },
  {
   "cell_type": "code",
   "execution_count": 3,
   "id": "8d07951c-dcea-4336-802b-f36e05a13b74",
   "metadata": {},
   "outputs": [],
   "source": [
    "def get_data():\n",
    "    url = r\"C:\\Users\\shubham\\Documents\\winequality-red.csv\"\n",
    "\n",
    "    try:\n",
    "        df = pd.read_csv(url,sep=\";\")\n",
    "        return df   \n",
    "    except Exception as e:\n",
    "        raise e"
   ]
  },
  {
   "cell_type": "code",
   "execution_count": 4,
   "id": "9fd9d4dc-b997-4503-9582-2ac0ca187c0b",
   "metadata": {},
   "outputs": [],
   "source": [
    "     \n",
    "def evaluate(y,pred):\n",
    "    rmse = np.sqrt(mean_squared_error(y,pred))\n",
    "    mae = mean_absolute_error(y,pred)\n",
    "    r2 = r2_score(y,pred)\n",
    "\n",
    "    return rmse, mae, r2"
   ]
  },
  {
   "cell_type": "code",
   "execution_count": 5,
   "id": "9bcf3e40-7521-486f-a603-76d52f6583d8",
   "metadata": {},
   "outputs": [],
   "source": [
    "df = get_data()\n",
    "train,test = train_test_split(df,random_state=42)\n",
    "train_x = train.drop([\"quality\"],axis=1)\n",
    "test_x = test.drop([\"quality\"],axis=1)\n",
    "\n",
    "train_y = train[[\"quality\"]]\n",
    "test_y = test[[\"quality\"]]"
   ]
  },
  {
   "cell_type": "code",
   "execution_count": 6,
   "id": "96077748-70da-40e0-82f1-2e086fe6ca80",
   "metadata": {},
   "outputs": [
    {
     "name": "stdout",
     "output_type": "stream",
     "text": [
      "Elastic net Params: alpha: 0.6, l1_ratio: 0.9\n",
      "Elastic net metric: rmse:0.7772257709002306, mae:0.6365170497744915,r2:0.023462653879936957\n"
     ]
    },
    {
     "name": "stderr",
     "output_type": "stream",
     "text": [
      "C:\\Users\\shubham\\anaconda3\\envs\\mlflow\\lib\\site-packages\\_distutils_hack\\__init__.py:30: UserWarning: Setuptools is replacing distutils.\n",
      "  warnings.warn(\"Setuptools is replacing distutils.\")\n"
     ]
    }
   ],
   "source": [
    "alpha=0.6\n",
    "l1_ratio = 0.9\n",
    "\n",
    "with mlflow.start_run():\n",
    "    \n",
    "    mlflow.set_tag(\"delevoper\",\"karndeep\")\n",
    "    mlflow.set_tag(\"model\",\"elastic-net\")\n",
    "    \n",
    "    mlflow.log_param(\"alpha\",alpha)\n",
    "    mlflow.log_param(\"l1_ratio\",l1_ratio)\n",
    "    \n",
    "    lr = ElasticNet(alpha=alpha, l1_ratio=alpha)\n",
    "    lr.fit(train_x,train_y)\n",
    "\n",
    "    pred = lr.predict(test_x)\n",
    "\n",
    "    rmse,mae,r2 = evaluate(test_y,pred)\n",
    "    \n",
    "    mlflow.log_metric(\"rmse\",rmse)\n",
    "    mlflow.log_metric(\"mae\",mae)\n",
    "    mlflow.log_metric(\"r2\",r2)\n",
    "    \n",
    "    mlflow.sklearn.log_model(lr,\"elastic-net-lr\")\n",
    "\n",
    "\n",
    "    print(f\"Elastic net Params: alpha: {alpha}, l1_ratio: {l1_ratio}\")\n",
    "    print(f\"Elastic net metric: rmse:{rmse}, mae:{mae},r2:{r2}\")"
   ]
  },
  {
   "cell_type": "code",
   "execution_count": 7,
   "id": "727d59ee-f6dd-48ef-9dc0-9f4d79084a22",
   "metadata": {},
   "outputs": [
    {
     "name": "stdout",
     "output_type": "stream",
     "text": [
      "Elastic net Params: alpha: 0.6, l1_ratio: 0.9\n",
      "Elastic net metric: rmse:0.7772257709002306, mae:0.6365170497744915,r2:0.023462653879936957\n"
     ]
    }
   ],
   "source": [
    "mlflow.sklearn.autolog()\n",
    "with mlflow.start_run() :\n",
    "    lr = ElasticNet(alpha=alpha, l1_ratio=alpha)\n",
    "    lr.fit(train_x,train_y)\n",
    "\n",
    "    pred = lr.predict(test_x)\n",
    "\n",
    "    rmse,mae,r2 = evaluate(test_y,pred)\n",
    "\n",
    "    print(f\"Elastic net Params: alpha: {alpha}, l1_ratio: {l1_ratio}\")\n",
    "    print(f\"Elastic net metric: rmse:{rmse}, mae:{mae},r2:{r2}\")"
   ]
  },
  {
   "cell_type": "markdown",
   "id": "e500814d-e70a-4545-b1a4-fe8c7b7ac4f8",
   "metadata": {},
   "source": [
    "## HYPERPARAMETER TUNING AND TRACKING USING MLFLOW\n"
   ]
  },
  {
   "cell_type": "code",
   "execution_count": 8,
   "id": "a24e8a68-181a-430e-ac71-25607ae2c482",
   "metadata": {},
   "outputs": [
    {
     "name": "stdout",
     "output_type": "stream",
     "text": [
      "Requirement already satisfied: hyperopt in c:\\users\\shubham\\anaconda3\\envs\\mlflow\\lib\\site-packages (0.2.7)\n",
      "Requirement already satisfied: networkx>=2.2 in c:\\users\\shubham\\anaconda3\\envs\\mlflow\\lib\\site-packages (from hyperopt) (2.8.7)\n",
      "Requirement already satisfied: tqdm in c:\\users\\shubham\\anaconda3\\envs\\mlflow\\lib\\site-packages (from hyperopt) (4.64.1)\n",
      "Requirement already satisfied: numpy in c:\\users\\shubham\\anaconda3\\envs\\mlflow\\lib\\site-packages (from hyperopt) (1.22.3)\n",
      "Requirement already satisfied: future in c:\\users\\shubham\\anaconda3\\envs\\mlflow\\lib\\site-packages (from hyperopt) (0.18.2)\n",
      "Requirement already satisfied: cloudpickle in c:\\users\\shubham\\anaconda3\\envs\\mlflow\\lib\\site-packages (from hyperopt) (2.0.0)\n",
      "Requirement already satisfied: scipy in c:\\users\\shubham\\anaconda3\\envs\\mlflow\\lib\\site-packages (from hyperopt) (1.8.0)\n",
      "Requirement already satisfied: py4j in c:\\users\\shubham\\anaconda3\\envs\\mlflow\\lib\\site-packages (from hyperopt) (0.10.9.7)\n",
      "Requirement already satisfied: six in c:\\users\\shubham\\anaconda3\\envs\\mlflow\\lib\\site-packages (from hyperopt) (1.16.0)\n",
      "Requirement already satisfied: colorama in c:\\users\\shubham\\anaconda3\\envs\\mlflow\\lib\\site-packages (from tqdm->hyperopt) (0.4.5)\n"
     ]
    }
   ],
   "source": [
    "!pip install hyperopt"
   ]
  },
  {
   "cell_type": "code",
   "execution_count": 9,
   "id": "4799bfda-5650-410d-bf00-ccda495c5054",
   "metadata": {},
   "outputs": [],
   "source": [
    "from hyperopt import fmin, tpe, hp, STATUS_OK, Trials\n",
    "from hyperopt.pyll import scope"
   ]
  },
  {
   "cell_type": "code",
   "execution_count": 10,
   "id": "154c10a7-2142-4496-8aeb-6f91a450f4c3",
   "metadata": {},
   "outputs": [],
   "source": [
    "def objective(params):\n",
    "    with mlflow.start_run():\n",
    "        mlflow.set_tag(\"model\", \"Elasticnet\")\n",
    "        mlflow.log_params(params)\n",
    "        \n",
    "        lr = ElasticNet(**params)\n",
    "        lr.fit(train_x,train_y)\n",
    "\n",
    "        pred = lr.predict(test_x)\n",
    "\n",
    "        rmse,mae,r2 = evaluate(test_y,pred)\n",
    "        mlflow.log_metric(\"rmse\", rmse)\n",
    "        mlflow.log_metric(\"mae\",mae)\n",
    "        mlflow.log_metric(\"r2\",r2)\n",
    "\n",
    "    return {'loss': rmse, 'status': STATUS_OK}"
   ]
  },
  {
   "cell_type": "code",
   "execution_count": 11,
   "id": "ebdfa706-d4ee-4604-bcca-450b9120b78b",
   "metadata": {},
   "outputs": [],
   "source": [
    "search_space = { \"alpha\": hp.loguniform('alpha',0.01,1),\n",
    "                  \"l1_ratio\": hp.uniform('l1_ratio',0,1)}"
   ]
  },
  {
   "cell_type": "code",
   "execution_count": 12,
   "id": "c46bdc83-4471-47e9-bd09-2aacffb9550c",
   "metadata": {},
   "outputs": [
    {
     "name": "stdout",
     "output_type": "stream",
     "text": [
      "100%|████████████████████████████████████████████████| 10/10 [00:34<00:00,  3.48s/trial, best loss: 0.7132064466235608]\n"
     ]
    }
   ],
   "source": [
    "best_result = fmin(\n",
    "    fn=objective,\n",
    "    space=search_space,\n",
    "    algo=tpe.suggest,\n",
    "    max_evals=10,\n",
    "    trials=Trials()\n",
    ")"
   ]
  },
  {
   "cell_type": "code",
   "execution_count": 13,
   "id": "5f0dcf36-05d6-470d-b1ce-60de2db86bcf",
   "metadata": {},
   "outputs": [],
   "source": [
    "params= {\"alpha\":1.43098798581676,\n",
    "\"copy_X\":True,\n",
    "\"fit_intercept\":True,\n",
    "\"l1_ratio\":0.003137093485394149,\n",
    "\"max_iter\":1000,\n",
    "\"normalize\":\"deprecated\",\n",
    "\"positive\":False,\n",
    "\"precompute\":False,\n",
    "\"random_state\":None,\n",
    "\"selection\":\"cyclic\",\n",
    "\"tol\":0.0001,\n",
    "\"warm_start\":False}"
   ]
  },
  {
   "cell_type": "code",
   "execution_count": 14,
   "id": "8a50a407-23e8-4a90-9df7-362fd5943f90",
   "metadata": {},
   "outputs": [
    {
     "name": "stdout",
     "output_type": "stream",
     "text": [
      "Elastic net Params: alpha: 0.6, l1_ratio: 0.9\n",
      "Elastic net metric: rmse:0.715046298073532, mae:0.5735208349754253,r2:0.17346205261746928\n"
     ]
    }
   ],
   "source": [
    "mlflow.sklearn.autolog()\n",
    "with mlflow.start_run() :\n",
    "    lr = ElasticNet(**params)\n",
    "    lr.fit(train_x,train_y)\n",
    "\n",
    "    pred = lr.predict(test_x)\n",
    "\n",
    "    rmse,mae,r2 = evaluate(test_y,pred)\n",
    "\n",
    "    print(f\"Elastic net Params: alpha: {alpha}, l1_ratio: {l1_ratio}\")\n",
    "    print(f\"Elastic net metric: rmse:{rmse}, mae:{mae},r2:{r2}\")"
   ]
  },
  {
   "cell_type": "markdown",
   "id": "b3005818-9721-463b-9dbe-0f9bb5689878",
   "metadata": {
    "tags": []
   },
   "source": [
    "## Model Registry"
   ]
  },
  {
   "cell_type": "code",
   "execution_count": 34,
   "id": "56a73b18-68d3-415a-a764-428f220fd48d",
   "metadata": {},
   "outputs": [],
   "source": [
    "from mlflow.tracking import MlflowClient\n",
    "MLFLOW_TRACKING_URI = \"sqlite:///mlflow.db\""
   ]
  },
  {
   "cell_type": "markdown",
   "id": "5e7fa702-241e-41ab-8146-d61b76abf4e7",
   "metadata": {},
   "source": [
    "### Interacting with MLflow Tracking Server to extract run ids with higher accuracy"
   ]
  },
  {
   "cell_type": "code",
   "execution_count": 35,
   "id": "fbff7bbb-0ebe-4064-8432-378a9a689106",
   "metadata": {},
   "outputs": [
    {
     "data": {
      "text/plain": [
       "[<Experiment: artifact_location='./mlruns/0', experiment_id='0', lifecycle_stage='active', name='Default', tags={}>,\n",
       " <Experiment: artifact_location='./mlruns/1', experiment_id='1', lifecycle_stage='active', name='Wine-Quality', tags={}>]"
      ]
     },
     "execution_count": 35,
     "metadata": {},
     "output_type": "execute_result"
    }
   ],
   "source": [
    "client = MlflowClient(tracking_uri=MLFLOW_TRACKING_URI)\n",
    "\n",
    "client.list_experiments()"
   ]
  },
  {
   "cell_type": "code",
   "execution_count": 36,
   "id": "340f4656-7454-43a5-ab90-3b17eb5690a1",
   "metadata": {},
   "outputs": [],
   "source": [
    "from mlflow.entities import ViewType\n",
    "\n",
    "runs = client.search_runs(\n",
    "    experiment_ids='1',\n",
    "    filter_string=\"metrics.rmse >0.7\",\n",
    "    run_view_type=ViewType.ACTIVE_ONLY,\n",
    "    max_results=5,\n",
    "    order_by=[\"metrics.rmse DESC\"]\n",
    ")"
   ]
  },
  {
   "cell_type": "code",
   "execution_count": 37,
   "id": "ebfb43bd-a34f-477c-a7a6-811f0b88139d",
   "metadata": {},
   "outputs": [
    {
     "name": "stdout",
     "output_type": "stream",
     "text": [
      "run id: da14fd8975f84c1392c3e794c6d6330f, rmse: 0.7851\n",
      "run id: d4b8c19f7e0f4afab7b94ca06d8e9985, rmse: 0.7851\n",
      "run id: da82670e2463467b8c8557834e980ad0, rmse: 0.7850\n",
      "run id: 45df2569b727451c8ed48ba0dafb30d0, rmse: 0.7849\n",
      "run id: 42611b028730423e8c26a9756bee5bff, rmse: 0.7849\n"
     ]
    }
   ],
   "source": [
    "for run in runs:\n",
    "    print(f\"run id: {run.info.run_id}, rmse: {run.data.metrics['rmse']:.4f}\")"
   ]
  },
  {
   "cell_type": "markdown",
   "id": "4c571c91-652e-42fc-bbee-66d695e9fcba",
   "metadata": {},
   "source": [
    "## Interacting with the Model Registry"
   ]
  },
  {
   "cell_type": "code",
   "execution_count": 23,
   "id": "97fb3103-8045-466b-8ea1-c97e83271b4e",
   "metadata": {},
   "outputs": [],
   "source": [
    "mlflow.set_tracking_uri(MLFLOW_TRACKING_URI)"
   ]
  },
  {
   "cell_type": "code",
   "execution_count": 38,
   "id": "b66d94fc-0cb7-4298-9838-49228e18a36a",
   "metadata": {},
   "outputs": [
    {
     "name": "stderr",
     "output_type": "stream",
     "text": [
      "Registered model 'wine_quality' already exists. Creating a new version of this model...\n",
      "2023/01/15 19:09:40 INFO mlflow.tracking._model_registry.client: Waiting up to 300 seconds for model version to finish creation.                     Model name: wine_quality, version 3\n",
      "Created version '3' of model 'wine_quality'.\n"
     ]
    },
    {
     "data": {
      "text/plain": [
       "<ModelVersion: creation_timestamp=1673789980538, current_stage='None', description=None, last_updated_timestamp=1673789980538, name='wine_quality', run_id='da82670e2463467b8c8557834e980ad0', run_link=None, source='./mlruns/1/da82670e2463467b8c8557834e980ad0/artifacts/model', status='READY', status_message=None, tags={}, user_id=None, version=3>"
      ]
     },
     "execution_count": 38,
     "metadata": {},
     "output_type": "execute_result"
    }
   ],
   "source": [
    "run_id = \"da82670e2463467b8c8557834e980ad0\"\n",
    "model_uri = f\"runs:/{run_id}/model\"\n",
    "mlflow.register_model(model_uri=model_uri, name=\"wine_quality\")"
   ]
  },
  {
   "cell_type": "code",
   "execution_count": 39,
   "id": "0461e265-c319-4c37-be93-44e019091b30",
   "metadata": {},
   "outputs": [
    {
     "name": "stdout",
     "output_type": "stream",
     "text": [
      "version: 1, stage: Staging\n",
      "version: 2, stage: Production\n",
      "version: 3, stage: None\n"
     ]
    }
   ],
   "source": [
    "model_name = \"wine_quality\"\n",
    "latest_versions = client.get_latest_versions(name=model_name)\n",
    "\n",
    "for version in latest_versions:\n",
    "    print(f\"version: {version.version}, stage: {version.current_stage}\")"
   ]
  },
  {
   "cell_type": "code",
   "execution_count": 40,
   "id": "6297465f-abe4-411f-aad3-71b55a771be9",
   "metadata": {},
   "outputs": [
    {
     "data": {
      "text/plain": [
       "<ModelVersion: creation_timestamp=1673789980538, current_stage='Production', description=None, last_updated_timestamp=1673790152817, name='wine_quality', run_id='da82670e2463467b8c8557834e980ad0', run_link=None, source='./mlruns/1/da82670e2463467b8c8557834e980ad0/artifacts/model', status='READY', status_message=None, tags={}, user_id=None, version=3>"
      ]
     },
     "execution_count": 40,
     "metadata": {},
     "output_type": "execute_result"
    }
   ],
   "source": [
    "model_version = 3\n",
    "new_stage = \"Production\"\n",
    "client.transition_model_version_stage(\n",
    "    name=model_name,\n",
    "    version=model_version,\n",
    "    stage=new_stage,\n",
    "    archive_existing_versions=True\n",
    ")"
   ]
  },
  {
   "cell_type": "code",
   "execution_count": 41,
   "id": "d9cce5a6-6da2-410f-8e60-fd9764fabda3",
   "metadata": {},
   "outputs": [
    {
     "name": "stdout",
     "output_type": "stream",
     "text": [
      "version: 1, stage: Staging\n",
      "version: 2, stage: Archived\n",
      "version: 3, stage: Production\n"
     ]
    }
   ],
   "source": [
    "model_name = \"wine_quality\"\n",
    "latest_versions = client.get_latest_versions(name=model_name)\n",
    "\n",
    "for version in latest_versions:\n",
    "    print(f\"version: {version.version}, stage: {version.current_stage}\")"
   ]
  },
  {
   "cell_type": "code",
   "execution_count": null,
   "id": "5f757782-4af3-4d0b-aa4d-f9ffb626130c",
   "metadata": {},
   "outputs": [],
   "source": []
  },
  {
   "cell_type": "markdown",
   "id": "e5dc3f8b-f30a-434f-ac7e-2386957d2304",
   "metadata": {},
   "source": [
    "## TEST THE MODEL IN PRODUCTION "
   ]
  },
  {
   "cell_type": "code",
   "execution_count": 42,
   "id": "ffd85ef6-5bdd-4b4c-832f-38b666bca3c1",
   "metadata": {},
   "outputs": [],
   "source": [
    "df = get_data()\n",
    "train,test = train_test_split(df,random_state=42)\n",
    "train_x = train.drop([\"quality\"],axis=1)\n",
    "test_x = test.drop([\"quality\"],axis=1)\n",
    "\n",
    "train_y = train[[\"quality\"]]\n",
    "test_y = test[[\"quality\"]]"
   ]
  },
  {
   "cell_type": "code",
   "execution_count": 43,
   "id": "55ed11e1-3d5b-468d-aaf8-ad2a23f09e65",
   "metadata": {},
   "outputs": [],
   "source": [
    "def test_model(name, stage, X_test, y_test):\n",
    "    model = mlflow.pyfunc.load_model(f\"models:/{name}/{stage}\")\n",
    "    y_pred = model.predict(X_test)\n",
    "    return {\"rmse\": mean_squared_error(y_test, y_pred, squared=False)}"
   ]
  },
  {
   "cell_type": "code",
   "execution_count": 44,
   "id": "0573720c-7a06-4b5d-a95f-dd9d5240671c",
   "metadata": {},
   "outputs": [
    {
     "data": {
      "text/plain": [
       "{'rmse': 0.7850412845660397}"
      ]
     },
     "execution_count": 44,
     "metadata": {},
     "output_type": "execute_result"
    }
   ],
   "source": [
    "test_model(name=model_name, stage=\"Production\", X_test=test_x, y_test=test_y)"
   ]
  },
  {
   "cell_type": "code",
   "execution_count": 46,
   "id": "cb70658c-8a4d-46fb-a59e-1738bb851f8e",
   "metadata": {},
   "outputs": [
    {
     "data": {
      "text/plain": [
       "{'rmse': 0.7306820887248511}"
      ]
     },
     "execution_count": 46,
     "metadata": {},
     "output_type": "execute_result"
    }
   ],
   "source": [
    "test_model(name=model_name, stage=\"Archived\", X_test=test_x, y_test=test_y)"
   ]
  },
  {
   "cell_type": "code",
   "execution_count": null,
   "id": "ac4bdcdd-7384-41f9-8a29-553ea5969396",
   "metadata": {},
   "outputs": [],
   "source": []
  }
 ],
 "metadata": {
  "kernelspec": {
   "display_name": "mlflow",
   "language": "python",
   "name": "mlflow"
  },
  "language_info": {
   "codemirror_mode": {
    "name": "ipython",
    "version": 3
   },
   "file_extension": ".py",
   "mimetype": "text/x-python",
   "name": "python",
   "nbconvert_exporter": "python",
   "pygments_lexer": "ipython3",
   "version": "3.8.13"
  }
 },
 "nbformat": 4,
 "nbformat_minor": 5
}
